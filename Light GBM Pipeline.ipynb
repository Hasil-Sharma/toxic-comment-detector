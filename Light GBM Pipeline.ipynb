{
 "cells": [
  {
   "cell_type": "code",
   "execution_count": 1,
   "metadata": {
    "ExecuteTime": {
     "end_time": "2018-04-05T23:49:58.094399Z",
     "start_time": "2018-04-05T23:49:58.090174Z"
    }
   },
   "outputs": [],
   "source": [
    "TRAIN_DATA_PATH = \"downloads/train.csv.zip\"\n",
    "TEST_DATA_PATH = \"downloads/test.csv.zip\"\n",
    "label_cols = ['toxic', 'severe_toxic', 'obscene', 'threat', 'insult', 'identity_hate']\n",
    "comment_col = 'comment_text'"
   ]
  },
  {
   "cell_type": "code",
   "execution_count": 2,
   "metadata": {
    "ExecuteTime": {
     "end_time": "2018-04-05T23:49:58.861801Z",
     "start_time": "2018-04-05T23:49:58.097731Z"
    }
   },
   "outputs": [],
   "source": [
    "import matplotlib.pyplot as plt\n",
    "%matplotlib inline\n",
    "\n",
    "import numpy as np\n",
    "import pandas as pd\n",
    "\n",
    "from sklearn.pipeline import Pipeline\n",
    "from sklearn.pipeline import FeatureUnion\n",
    "\n",
    "from sklearn.feature_extraction.text import CountVectorizer\n",
    "from sklearn.feature_extraction.text import TfidfTransformer\n",
    "\n",
    "from lightgbm import LGBMClassifier\n",
    "\n",
    "from sklearn.base import clone\n",
    "from sklearn.model_selection import learning_curve"
   ]
  },
  {
   "cell_type": "code",
   "execution_count": 3,
   "metadata": {
    "ExecuteTime": {
     "end_time": "2018-04-05T23:50:00.771677Z",
     "start_time": "2018-04-05T23:49:58.863234Z"
    }
   },
   "outputs": [],
   "source": [
    "train = pd.read_csv(TRAIN_DATA_PATH)\n",
    "test = pd.read_csv(TEST_DATA_PATH)"
   ]
  },
  {
   "cell_type": "code",
   "execution_count": 4,
   "metadata": {
    "ExecuteTime": {
     "end_time": "2018-04-05T23:50:00.809479Z",
     "start_time": "2018-04-05T23:50:00.773583Z"
    }
   },
   "outputs": [],
   "source": [
    "COMMENT = 'comment_text'\n",
    "train[COMMENT].fillna(\"unknown\", inplace=True)\n",
    "test[COMMENT].fillna(\"unknown\", inplace=True)"
   ]
  },
  {
   "cell_type": "code",
   "execution_count": 5,
   "metadata": {
    "ExecuteTime": {
     "end_time": "2018-04-05T23:50:00.818905Z",
     "start_time": "2018-04-05T23:50:00.811541Z"
    }
   },
   "outputs": [],
   "source": [
    "def plot_learning_curve(pipeline, X, y, **kwargs):\n",
    "    train_size, train_acc_folds, val_acc_folds = learning_curve(estimator=pipeline, X = X, y = y, **kwargs)\n",
    "    \n",
    "    train_acc = np.mean(train_acc_folds, axis = 1)\n",
    "    train_val = np.mean(val_acc_folds, axis = 1)\n",
    "    print([' %.4f' % score for score in train_val])\n",
    "    print(\"\\nAccuracy: %0.4f (+/- %0.4f)\" % (np.mean(train_val), np.std(train_val) * 2)) \n",
    "    fig, ax = plt.subplots(nrows = 1, ncols = 1, figsize = (8, 6))\n",
    "    ax.plot(train_sizes, train_acc, lw = 3, color = \"steelblue\", label = \"training\")\n",
    "    ax.plot(train_sizes, train_val, lw = 3, color = \"green\", label = \"validation\")\n",
    "\n",
    "    ax.grid(alpha=0.25)\n",
    "    ax.set_xlabel(\"training set size\", fontsize=16)\n",
    "    ax.set_ylabel(\"Accuracy\", fontsize=16)\n",
    "    ax.legend(loc=\"upper right\", fontsize=16)\n"
   ]
  },
  {
   "cell_type": "markdown",
   "metadata": {},
   "source": [
    "For better understanding `LGBMClassifer` refer [here](http://lightgbm.readthedocs.io/en/latest/Python-API.html#scikit-learn-api)"
   ]
  },
  {
   "cell_type": "code",
   "execution_count": 14,
   "metadata": {
    "ExecuteTime": {
     "end_time": "2018-04-06T00:25:12.570987Z",
     "start_time": "2018-04-06T00:25:12.550111Z"
    }
   },
   "outputs": [],
   "source": [
    "lightgbm_pipline = Pipeline([\n",
    "    ('vect', FeatureUnion([\n",
    "        ('word_vect', Pipeline([\n",
    "            ('vect', CountVectorizer(analyzer = 'word')),\n",
    "            ('tfidf', TfidfTransformer())\n",
    "        ])),\n",
    "#         ('char_vect', Pipeline([\n",
    "#             ('vect', CountVectorizer(analyzer = 'char')),\n",
    "#             ('tfidf', TfidfTransformer())\n",
    "#         ]))\n",
    "        # Union of other relevant features\n",
    "    ])),\n",
    "    ('clf', LGBMClassifier(class_weight = 'balanced'))\n",
    "])\n",
    "        "
   ]
  },
  {
   "cell_type": "markdown",
   "metadata": {},
   "source": [
    "`clone` is necessary to support different pipelines with different params"
   ]
  },
  {
   "cell_type": "code",
   "execution_count": null,
   "metadata": {
    "ExecuteTime": {
     "start_time": "2018-04-06T00:30:33.004Z"
    }
   },
   "outputs": [
    {
     "name": "stdout",
     "output_type": "stream",
     "text": [
      "[learning_curve] Training set sizes: [10638 21276 31914 42552 53190]\n"
     ]
    }
   ],
   "source": [
    "## No char_vect\n",
    "p1 = clone(lightgbm_pipline)\n",
    "params = {\n",
    "    'clf__boosting_type': 'goss',\n",
    "    'vect__word_vect__vect__min_df': 10,\n",
    "    'vect__word_vect__vect__strip_accents': 'unicode',\n",
    "    'vect__word_vect__vect__max_features': 100,\n",
    "    'clf__silent': False\n",
    "}\n",
    "p1.set_params(**params);\n",
    "plot_learning_curve(p1, train[comment_col].values, train[label_cols]['toxic'],\n",
    "                    train_sizes = np.linspace(0.1, 0.5, 5),\n",
    "                    verbose=1,\n",
    "                    cv = 3,\n",
    "                    scoring = 'neg_log_loss',\n",
    "                    n_jobs = 3)\n"
   ]
  },
  {
   "cell_type": "code",
   "execution_count": null,
   "metadata": {
    "ExecuteTime": {
     "end_time": "2018-04-05T23:58:30.854883Z",
     "start_time": "2018-04-05T23:49:58.110Z"
    }
   },
   "outputs": [],
   "source": [
    "p2 = clone(lightgbm_pipline)"
   ]
  },
  {
   "cell_type": "code",
   "execution_count": null,
   "metadata": {
    "ExecuteTime": {
     "end_time": "2018-04-05T23:58:30.857345Z",
     "start_time": "2018-04-05T23:49:58.112Z"
    }
   },
   "outputs": [],
   "source": [
    "train[comment_col].shape"
   ]
  },
  {
   "cell_type": "code",
   "execution_count": null,
   "metadata": {
    "ExecuteTime": {
     "end_time": "2018-04-05T23:58:30.859121Z",
     "start_time": "2018-04-05T23:49:58.116Z"
    }
   },
   "outputs": [],
   "source": [
    "train[label_cols].values"
   ]
  },
  {
   "cell_type": "code",
   "execution_count": null,
   "metadata": {},
   "outputs": [],
   "source": []
  }
 ],
 "metadata": {
  "kernelspec": {
   "display_name": "Python 3",
   "language": "python",
   "name": "python3"
  },
  "language_info": {
   "codemirror_mode": {
    "name": "ipython",
    "version": 3
   },
   "file_extension": ".py",
   "mimetype": "text/x-python",
   "name": "python",
   "nbconvert_exporter": "python",
   "pygments_lexer": "ipython3",
   "version": "3.6.4"
  },
  "varInspector": {
   "cols": {
    "lenName": 16,
    "lenType": 16,
    "lenVar": 40
   },
   "kernels_config": {
    "python": {
     "delete_cmd_postfix": "",
     "delete_cmd_prefix": "del ",
     "library": "var_list.py",
     "varRefreshCmd": "print(var_dic_list())"
    },
    "r": {
     "delete_cmd_postfix": ") ",
     "delete_cmd_prefix": "rm(",
     "library": "var_list.r",
     "varRefreshCmd": "cat(var_dic_list()) "
    }
   },
   "types_to_exclude": [
    "module",
    "function",
    "builtin_function_or_method",
    "instance",
    "_Feature"
   ],
   "window_display": false
  }
 },
 "nbformat": 4,
 "nbformat_minor": 2
}
