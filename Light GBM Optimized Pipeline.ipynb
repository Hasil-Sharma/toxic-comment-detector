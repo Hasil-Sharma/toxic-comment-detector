{
 "cells": [
  {
   "cell_type": "code",
   "execution_count": null,
   "metadata": {
    "ExecuteTime": {
     "end_time": "2018-04-06T04:55:37.732203Z",
     "start_time": "2018-04-06T04:55:37.728837Z"
    },
    "_cell_guid": "79c7e3d0-c299-4dcb-8224-4455121ee9b0",
    "_uuid": "d629ff2d2480ee46fbb7e2d37f6b5fab8052498a"
   },
   "outputs": [],
   "source": [
    "TRAIN_DATA_PATH = \"downloads/train.csv.zip\"\n",
    "TEST_DATA_PATH = \"downloads/test.csv.zip\"\n",
    "label_cols = ['toxic', 'severe_toxic', 'obscene', 'threat', 'insult', 'identity_hate']\n",
    "comment_col = 'comment_text'"
   ]
  },
  {
   "cell_type": "code",
   "execution_count": null,
   "metadata": {
    "ExecuteTime": {
     "end_time": "2018-04-06T04:55:39.018733Z",
     "start_time": "2018-04-06T04:55:39.000520Z"
    },
    "_cell_guid": "c333fae9-18b3-4b0e-b782-95e46b697382",
    "_uuid": "cbb8a86b72cacdefbd2e8d3c6b620d17f287df96"
   },
   "outputs": [],
   "source": [
    "import matplotlib.pyplot as plt\n",
    "%matplotlib inline\n",
    "\n",
    "import numpy as np\n",
    "import pandas as pd\n",
    "\n",
    "from sklearn.pipeline import Pipeline\n",
    "from sklearn.pipeline import FeatureUnion\n",
    "\n",
    "from sklearn.feature_extraction.text import CountVectorizer\n",
    "from sklearn.feature_extraction.text import TfidfTransformer\n",
    "from sklearn.feature_extraction.text import TfidfVectorizer\n",
    "\n",
    "from lightgbm import LGBMClassifier\n",
    "\n",
    "from sklearn.base import clone\n",
    "from sklearn.model_selection import learning_curve\n",
    "from sklearn.feature_selection import SelectFromModel\n",
    "from sklearn.model_selection import cross_validate\n",
    "\n",
    "from sklearn.linear_model import LogisticRegression\n",
    "import lightgbm as lgb"
   ]
  },
  {
   "cell_type": "code",
   "execution_count": null,
   "metadata": {
    "ExecuteTime": {
     "end_time": "2018-04-06T04:55:44.095343Z",
     "start_time": "2018-04-06T04:55:42.240388Z"
    },
    "_cell_guid": "4536ab95-15b8-4bfe-9f9d-d5c08ae38ccf",
    "_uuid": "deada343d590be28ef0253b8249f73955b585c5d"
   },
   "outputs": [],
   "source": [
    "train = pd.read_csv(TRAIN_DATA_PATH)\n",
    "test = pd.read_csv(TEST_DATA_PATH)"
   ]
  },
  {
   "cell_type": "code",
   "execution_count": null,
   "metadata": {
    "ExecuteTime": {
     "end_time": "2018-04-06T04:55:45.505745Z",
     "start_time": "2018-04-06T04:55:45.463393Z"
    },
    "_cell_guid": "b74ba3cf-1490-41e6-afd4-4cede3eeb437",
    "_uuid": "4d62321b3e02f0f4f88fb78724fb0efcf31033c4"
   },
   "outputs": [],
   "source": [
    "COMMENT = 'comment_text'\n",
    "train[COMMENT].fillna(\"unknown\", inplace=True)\n",
    "test[COMMENT].fillna(\"unknown\", inplace=True)"
   ]
  },
  {
   "cell_type": "code",
   "execution_count": null,
   "metadata": {
    "_cell_guid": "d32e6dda-dc87-4446-97ec-3fed3836ab08",
    "_uuid": "a2a6ad7bc906abbe110383c76e9f8a90722790fd"
   },
   "outputs": [],
   "source": [
    "light_gbm_pipeline = Pipeline([\n",
    "    ('vect', FeatureUnion([\n",
    "        ('word_vect', TfidfVectorizer()),\n",
    "        ('char_vect', TfidfVectorizer())\n",
    "    ])),\n",
    "    ('selection', SelectFromModel(LogisticRegression(solver = 'sag'))),\n",
    "    ('clf', LGBMClassifier())\n",
    "])"
   ]
  },
  {
   "cell_type": "code",
   "execution_count": null,
   "metadata": {
    "_cell_guid": "1627b726-cb4d-41ee-8007-5dcb09b5484d",
    "_uuid": "cb77f276f55d90b1c7a49118da5a5ccd8b2784d5"
   },
   "outputs": [],
   "source": [
    "params = {\n",
    "    'vect__word_vect__sublinear_tf': True,\n",
    "    'vect__word_vect__strip_accents': 'unicode',\n",
    "    'vect__word_vect__analyzer': 'word',\n",
    "    'vect__word_vect__token_pattern': r'\\w{1,}',\n",
    "    'vect__word_vect__max_features': 50000,\n",
    "    'vect__word_vect__ngram_range': (1, 2),\n",
    "    'vect__char_vect__sublinear_tf': True,\n",
    "    'vect__char_vect__strip_accents': 'unicode',\n",
    "    'vect__char_vect__analyzer': 'char',\n",
    "    'vect__char_vect__max_features': 50000,\n",
    "    'vect__char_vect__ngram_range': (2, 6),\n",
    "    'selection__threshold': 0.2,\n",
    "    'clf__learning_rate': 0.2,\n",
    "    'clf__application': 'binary',\n",
    "    'clf__num_leaves': 20,\n",
    "    'clf__verbosity': -1,\n",
    "    'clf__metric': 'auc',\n",
    "    'clf__bagging_fraction': 0.8,\n",
    "    'clf__feature_fraction': 0.6,\n",
    "    'clf__lamba_l1': 1,\n",
    "    'clf__lambda_l2': 1,\n",
    "    'clf__num_boost_rounds': 10,\n",
    "    'clf__verbose_eval': 10\n",
    "}\n",
    "\n",
    "light_gbm_pipeline.set_params(**params)"
   ]
  },
  {
   "cell_type": "code",
   "execution_count": null,
   "metadata": {
    "_cell_guid": "1698bb56-89ca-4b55-b8e4-8622b69a119d",
    "_uuid": "f96978346c98571bfa06c1ffff935b167bda57e8"
   },
   "outputs": [],
   "source": [
    "label = 'severe_toxic'\n",
    "print ('Running for ' + label)\n",
    "cv[label] = cross_validate(light_gbm_pipeline, train[comment_col], train[label], \n",
    "                           cv = 5, n_jobs = 3, verbose = 10, scoring = ('accuracy', 'roc_auc', 'neg_log_loss'))\n",
    "print (cv[label])"
   ]
  },
  {
   "cell_type": "code",
   "execution_count": null,
   "metadata": {
    "_cell_guid": "f2cc0778-e9ce-447e-a2f1-6a85aebbfa3b",
    "_uuid": "cb00779b9db8705ab03eced490e3baea3eb6526c"
   },
   "outputs": [],
   "source": []
  }
 ],
 "metadata": {
  "kernelspec": {
   "display_name": "Python 3",
   "language": "python",
   "name": "python3"
  },
  "language_info": {
   "codemirror_mode": {
    "name": "ipython",
    "version": 3
   },
   "file_extension": ".py",
   "mimetype": "text/x-python",
   "name": "python",
   "nbconvert_exporter": "python",
   "pygments_lexer": "ipython3",
   "version": "3.6.4"
  },
  "varInspector": {
   "cols": {
    "lenName": 16,
    "lenType": 16,
    "lenVar": 40
   },
   "kernels_config": {
    "python": {
     "delete_cmd_postfix": "",
     "delete_cmd_prefix": "del ",
     "library": "var_list.py",
     "varRefreshCmd": "print(var_dic_list())"
    },
    "r": {
     "delete_cmd_postfix": ") ",
     "delete_cmd_prefix": "rm(",
     "library": "var_list.r",
     "varRefreshCmd": "cat(var_dic_list()) "
    }
   },
   "types_to_exclude": [
    "module",
    "function",
    "builtin_function_or_method",
    "instance",
    "_Feature"
   ],
   "window_display": false
  }
 },
 "nbformat": 4,
 "nbformat_minor": 1
}
