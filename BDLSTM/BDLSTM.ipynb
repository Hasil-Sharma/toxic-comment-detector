{
 "cells": [
  {
   "cell_type": "markdown",
   "metadata": {},
   "source": [
    "Author: [Hasil Sharma](https://github.com/Hasil-Sharma)"
   ]
  },
  {
   "cell_type": "code",
   "execution_count": 1,
   "metadata": {
    "ExecuteTime": {
     "end_time": "2018-05-01T07:27:09.571733Z",
     "start_time": "2018-05-01T07:27:05.785416Z"
    }
   },
   "outputs": [
    {
     "name": "stderr",
     "output_type": "stream",
     "text": [
      "Using Theano backend.\n"
     ]
    }
   ],
   "source": [
    "import sys, os, re, csv, codecs, numpy as np, pandas as pd\n",
    "\n",
    "from keras.callbacks import Callback\n",
    "from keras.preprocessing.text import Tokenizer\n",
    "from keras.preprocessing.sequence import pad_sequences\n",
    "from keras.layers import Dense, Input, LSTM, Embedding, Dropout, Activation\n",
    "from keras.layers import Bidirectional, GlobalMaxPool1D\n",
    "from keras.models import Model\n",
    "from keras import initializers, regularizers, constraints, optimizers, layers\n",
    "from sklearn.metrics import roc_auc_score\n",
    "import tensorflow as tf\n",
    "import matplotlib.pyplot as plt\n",
    "%matplotlib inline"
   ]
  },
  {
   "cell_type": "code",
   "execution_count": 2,
   "metadata": {
    "ExecuteTime": {
     "end_time": "2018-05-01T07:27:18.679853Z",
     "start_time": "2018-05-01T07:27:18.676776Z"
    }
   },
   "outputs": [],
   "source": [
    "import re"
   ]
  },
  {
   "cell_type": "code",
   "execution_count": 39,
   "metadata": {},
   "outputs": [],
   "source": [
    "path = './Data/'\n",
    "EMBEDDING_FILE=f'{path}glove.6B.50d.txt'\n",
    "TRAIN_DATA_FILE=f'{path}train.csv'"
   ]
  },
  {
   "cell_type": "code",
   "execution_count": 40,
   "metadata": {},
   "outputs": [],
   "source": [
    "embed_size = 50 # how big is each word vector\n",
    "max_features = 6500 # how many unique words to use (i.e num rows in embedding vector)\n",
    "maxlen = 400 # max number of words in a comment to use"
   ]
  },
  {
   "cell_type": "code",
   "execution_count": 41,
   "metadata": {},
   "outputs": [],
   "source": [
    "train = pd.read_csv(TRAIN_DATA_FILE)\n",
    "list_sentences_train = train[\"comment_text\"].fillna(\"_na_\").values\n",
    "list_classes = [\"toxic\", \"severe_toxic\", \"obscene\", \"threat\", \"insult\", \"identity_hate\"]\n",
    "y = train[list_classes].values"
   ]
  },
  {
   "cell_type": "code",
   "execution_count": 8,
   "metadata": {},
   "outputs": [],
   "source": [
    "train[\"clean_comment\"] = train[\"comment_text\"].apply(lambda x: x.replace('\\n', ' '))"
   ]
  },
  {
   "cell_type": "code",
   "execution_count": 9,
   "metadata": {},
   "outputs": [
    {
     "data": {
      "text/html": [
       "<div>\n",
       "<style scoped>\n",
       "    .dataframe tbody tr th:only-of-type {\n",
       "        vertical-align: middle;\n",
       "    }\n",
       "\n",
       "    .dataframe tbody tr th {\n",
       "        vertical-align: top;\n",
       "    }\n",
       "\n",
       "    .dataframe thead th {\n",
       "        text-align: right;\n",
       "    }\n",
       "</style>\n",
       "<table border=\"1\" class=\"dataframe\">\n",
       "  <thead>\n",
       "    <tr style=\"text-align: right;\">\n",
       "      <th></th>\n",
       "      <th>id</th>\n",
       "      <th>comment_text</th>\n",
       "      <th>toxic</th>\n",
       "      <th>severe_toxic</th>\n",
       "      <th>obscene</th>\n",
       "      <th>threat</th>\n",
       "      <th>insult</th>\n",
       "      <th>identity_hate</th>\n",
       "      <th>clean_comment</th>\n",
       "    </tr>\n",
       "  </thead>\n",
       "  <tbody>\n",
       "    <tr>\n",
       "      <th>0</th>\n",
       "      <td>0000997932d777bf</td>\n",
       "      <td>Explanation\\nWhy the edits made under my usern...</td>\n",
       "      <td>0</td>\n",
       "      <td>0</td>\n",
       "      <td>0</td>\n",
       "      <td>0</td>\n",
       "      <td>0</td>\n",
       "      <td>0</td>\n",
       "      <td>Explanation Why the edits made under my userna...</td>\n",
       "    </tr>\n",
       "    <tr>\n",
       "      <th>1</th>\n",
       "      <td>000103f0d9cfb60f</td>\n",
       "      <td>D'aww! He matches this background colour I'm s...</td>\n",
       "      <td>0</td>\n",
       "      <td>0</td>\n",
       "      <td>0</td>\n",
       "      <td>0</td>\n",
       "      <td>0</td>\n",
       "      <td>0</td>\n",
       "      <td>D'aww! He matches this background colour I'm s...</td>\n",
       "    </tr>\n",
       "    <tr>\n",
       "      <th>2</th>\n",
       "      <td>000113f07ec002fd</td>\n",
       "      <td>Hey man, I'm really not trying to edit war. It...</td>\n",
       "      <td>0</td>\n",
       "      <td>0</td>\n",
       "      <td>0</td>\n",
       "      <td>0</td>\n",
       "      <td>0</td>\n",
       "      <td>0</td>\n",
       "      <td>Hey man, I'm really not trying to edit war. It...</td>\n",
       "    </tr>\n",
       "    <tr>\n",
       "      <th>3</th>\n",
       "      <td>0001b41b1c6bb37e</td>\n",
       "      <td>\"\\nMore\\nI can't make any real suggestions on ...</td>\n",
       "      <td>0</td>\n",
       "      <td>0</td>\n",
       "      <td>0</td>\n",
       "      <td>0</td>\n",
       "      <td>0</td>\n",
       "      <td>0</td>\n",
       "      <td>\" More I can't make any real suggestions on im...</td>\n",
       "    </tr>\n",
       "    <tr>\n",
       "      <th>4</th>\n",
       "      <td>0001d958c54c6e35</td>\n",
       "      <td>You, sir, are my hero. Any chance you remember...</td>\n",
       "      <td>0</td>\n",
       "      <td>0</td>\n",
       "      <td>0</td>\n",
       "      <td>0</td>\n",
       "      <td>0</td>\n",
       "      <td>0</td>\n",
       "      <td>You, sir, are my hero. Any chance you remember...</td>\n",
       "    </tr>\n",
       "    <tr>\n",
       "      <th>5</th>\n",
       "      <td>00025465d4725e87</td>\n",
       "      <td>\"\\n\\nCongratulations from me as well, use the ...</td>\n",
       "      <td>0</td>\n",
       "      <td>0</td>\n",
       "      <td>0</td>\n",
       "      <td>0</td>\n",
       "      <td>0</td>\n",
       "      <td>0</td>\n",
       "      <td>\"  Congratulations from me as well, use the to...</td>\n",
       "    </tr>\n",
       "    <tr>\n",
       "      <th>6</th>\n",
       "      <td>0002bcb3da6cb337</td>\n",
       "      <td>COCKSUCKER BEFORE YOU PISS AROUND ON MY WORK</td>\n",
       "      <td>1</td>\n",
       "      <td>1</td>\n",
       "      <td>1</td>\n",
       "      <td>0</td>\n",
       "      <td>1</td>\n",
       "      <td>0</td>\n",
       "      <td>COCKSUCKER BEFORE YOU PISS AROUND ON MY WORK</td>\n",
       "    </tr>\n",
       "    <tr>\n",
       "      <th>7</th>\n",
       "      <td>00031b1e95af7921</td>\n",
       "      <td>Your vandalism to the Matt Shirvington article...</td>\n",
       "      <td>0</td>\n",
       "      <td>0</td>\n",
       "      <td>0</td>\n",
       "      <td>0</td>\n",
       "      <td>0</td>\n",
       "      <td>0</td>\n",
       "      <td>Your vandalism to the Matt Shirvington article...</td>\n",
       "    </tr>\n",
       "    <tr>\n",
       "      <th>8</th>\n",
       "      <td>00037261f536c51d</td>\n",
       "      <td>Sorry if the word 'nonsense' was offensive to ...</td>\n",
       "      <td>0</td>\n",
       "      <td>0</td>\n",
       "      <td>0</td>\n",
       "      <td>0</td>\n",
       "      <td>0</td>\n",
       "      <td>0</td>\n",
       "      <td>Sorry if the word 'nonsense' was offensive to ...</td>\n",
       "    </tr>\n",
       "    <tr>\n",
       "      <th>9</th>\n",
       "      <td>00040093b2687caa</td>\n",
       "      <td>alignment on this subject and which are contra...</td>\n",
       "      <td>0</td>\n",
       "      <td>0</td>\n",
       "      <td>0</td>\n",
       "      <td>0</td>\n",
       "      <td>0</td>\n",
       "      <td>0</td>\n",
       "      <td>alignment on this subject and which are contra...</td>\n",
       "    </tr>\n",
       "  </tbody>\n",
       "</table>\n",
       "</div>"
      ],
      "text/plain": [
       "                 id                                       comment_text  toxic  \\\n",
       "0  0000997932d777bf  Explanation\\nWhy the edits made under my usern...      0   \n",
       "1  000103f0d9cfb60f  D'aww! He matches this background colour I'm s...      0   \n",
       "2  000113f07ec002fd  Hey man, I'm really not trying to edit war. It...      0   \n",
       "3  0001b41b1c6bb37e  \"\\nMore\\nI can't make any real suggestions on ...      0   \n",
       "4  0001d958c54c6e35  You, sir, are my hero. Any chance you remember...      0   \n",
       "5  00025465d4725e87  \"\\n\\nCongratulations from me as well, use the ...      0   \n",
       "6  0002bcb3da6cb337       COCKSUCKER BEFORE YOU PISS AROUND ON MY WORK      1   \n",
       "7  00031b1e95af7921  Your vandalism to the Matt Shirvington article...      0   \n",
       "8  00037261f536c51d  Sorry if the word 'nonsense' was offensive to ...      0   \n",
       "9  00040093b2687caa  alignment on this subject and which are contra...      0   \n",
       "\n",
       "   severe_toxic  obscene  threat  insult  identity_hate  \\\n",
       "0             0        0       0       0              0   \n",
       "1             0        0       0       0              0   \n",
       "2             0        0       0       0              0   \n",
       "3             0        0       0       0              0   \n",
       "4             0        0       0       0              0   \n",
       "5             0        0       0       0              0   \n",
       "6             1        1       0       1              0   \n",
       "7             0        0       0       0              0   \n",
       "8             0        0       0       0              0   \n",
       "9             0        0       0       0              0   \n",
       "\n",
       "                                       clean_comment  \n",
       "0  Explanation Why the edits made under my userna...  \n",
       "1  D'aww! He matches this background colour I'm s...  \n",
       "2  Hey man, I'm really not trying to edit war. It...  \n",
       "3  \" More I can't make any real suggestions on im...  \n",
       "4  You, sir, are my hero. Any chance you remember...  \n",
       "5  \"  Congratulations from me as well, use the to...  \n",
       "6       COCKSUCKER BEFORE YOU PISS AROUND ON MY WORK  \n",
       "7  Your vandalism to the Matt Shirvington article...  \n",
       "8  Sorry if the word 'nonsense' was offensive to ...  \n",
       "9  alignment on this subject and which are contra...  "
      ]
     },
     "execution_count": 9,
     "metadata": {},
     "output_type": "execute_result"
    }
   ],
   "source": [
    "train.head(10)"
   ]
  },
  {
   "cell_type": "code",
   "execution_count": 10,
   "metadata": {},
   "outputs": [],
   "source": [
    "train[[\"clean_comment\", \"identity_hate\"]].to_csv(\"identity_hate_train.csv\", index = False)"
   ]
  },
  {
   "cell_type": "code",
   "execution_count": null,
   "metadata": {},
   "outputs": [],
   "source": [
    "tokenizer = Tokenizer(num_words=max_features)\n",
    "tokenizer.fit_on_texts(list(list_sentences_train))\n",
    "list_tokenized_train = tokenizer.texts_to_sequences(list_sentences_train)\n",
    "X_t = pad_sequences(list_tokenized_train, maxlen=maxlen)"
   ]
  },
  {
   "cell_type": "code",
   "execution_count": null,
   "metadata": {},
   "outputs": [],
   "source": [
    "def get_coefs(word,*arr): return word, np.asarray(arr, dtype='float32')\n",
    "embeddings_index = dict(get_coefs(*o.strip().split()) for o in open(EMBEDDING_FILE))"
   ]
  },
  {
   "cell_type": "code",
   "execution_count": null,
   "metadata": {},
   "outputs": [],
   "source": [
    "all_embs = np.stack(embeddings_index.values())\n",
    "emb_mean,emb_std = all_embs.mean(), all_embs.std()\n",
    "emb_mean,emb_std"
   ]
  },
  {
   "cell_type": "markdown",
   "metadata": {},
   "source": [
    "Reference : https://machinelearningmastery.com/develop-bidirectional-lstm-sequence-classification-python-keras/"
   ]
  },
  {
   "cell_type": "code",
   "execution_count": null,
   "metadata": {},
   "outputs": [],
   "source": [
    "word_index = tokenizer.word_index\n",
    "nb_words = min(max_features, len(word_index))\n",
    "embedding_matrix = np.random.normal(emb_mean, emb_std, (nb_words, embed_size))\n",
    "for word, i in word_index.items():\n",
    "    if i >= max_features: continue\n",
    "    embedding_vector = embeddings_index.get(word)\n",
    "    if embedding_vector is not None: embedding_matrix[i] = embedding_vector"
   ]
  },
  {
   "cell_type": "code",
   "execution_count": null,
   "metadata": {},
   "outputs": [],
   "source": [
    "def auc_roc(y_true, y_pred):\n",
    "    # any tensorflow metric\n",
    "    value, update_op = tf.contrib.metrics.streaming_auc(y_pred, y_true)\n",
    "\n",
    "    # find all variables created for this metric\n",
    "    metric_vars = [i for i in tf.local_variables() if 'auc_roc' in i.name.split('/')[1]]\n",
    "\n",
    "    # Add metric variables to GLOBAL_VARIABLES collection.\n",
    "    # They will be initialized for new session.\n",
    "    for v in metric_vars:\n",
    "        tf.add_to_collection(tf.GraphKeys.GLOBAL_VARIABLES, v)\n",
    "\n",
    "    # force to update metric values\n",
    "    with tf.control_dependencies([update_op]):\n",
    "        value = tf.identity(value)\n",
    "        return value"
   ]
  },
  {
   "cell_type": "code",
   "execution_count": null,
   "metadata": {},
   "outputs": [],
   "source": [
    "inp = Input(shape=(maxlen,))\n",
    "x = Embedding(max_features, embed_size, weights=[embedding_matrix])(inp)\n",
    "x = Bidirectional(LSTM(50, return_sequences=True, dropout=0.1, recurrent_dropout=0.1))(x)\n",
    "x = GlobalMaxPool1D()(x)\n",
    "x = Dense(50, activation=\"relu\")(x)\n",
    "x = Dropout(0.1)(x)\n",
    "x = Dense(6, activation=\"sigmoid\")(x)\n",
    "model = Model(inputs=inp, outputs=x)\n",
    "model.compile(loss='binary_crossentropy', optimizer='adam', metrics=['accuracy', auc_roc])"
   ]
  },
  {
   "cell_type": "code",
   "execution_count": null,
   "metadata": {},
   "outputs": [],
   "source": [
    "model."
   ]
  },
  {
   "cell_type": "code",
   "execution_count": 17,
   "metadata": {},
   "outputs": [],
   "source": [
    "class LossHistory(Callback):\n",
    "    def on_train_begin(self, logs={}):\n",
    "        self.losses = {\"val_loss\" : [], \"train_loss\": []}\n",
    "\n",
    "    def on_batch_end(self, batch, logs={}):\n",
    "        self.losses[\"train_loss\"].append(logs.get('loss'))\n",
    "        self.losses[\"val_loss\"].append(logs.get('val_loss'))\n",
    "        \n",
    "class AccHistory(Callback):\n",
    "    def on_train_begin(self, logs={}):\n",
    "        self.acc = {\"val_acc\" : [], \"train_acc\": []}\n",
    "\n",
    "    def on_batch_end(self, batch, logs={}):\n",
    "        self.acc[\"train_acc\"].append(logs.get('acc'))\n",
    "        self.acc[\"val_acc\"].append(logs.get('val_acc'))\n"
   ]
  },
  {
   "cell_type": "code",
   "execution_count": null,
   "metadata": {},
   "outputs": [
    {
     "name": "stdout",
     "output_type": "stream",
     "text": [
      "Train on 143613 samples, validate on 15958 samples\n",
      "Epoch 1/2\n",
      "143392/143613 [============================>.] - ETA: 12s - loss: 0.0597 - acc: 0.9791 - auc_roc: 0.9357"
     ]
    }
   ],
   "source": [
    "loss_history = LossHistory()\n",
    "acc_history = AccHistory()\n",
    "history = model.fit(X_t, y, batch_size=32, epochs=2, validation_split=0.1, callbacks = [loss_history, acc_history]);"
   ]
  },
  {
   "cell_type": "code",
   "execution_count": 33,
   "metadata": {},
   "outputs": [
    {
     "data": {
      "text/plain": [
       "{'val_loss': [0.04823996469626855, 0.045795883482404036],\n",
       " 'val_acc': [0.9821614949068848, 0.982840357911155],\n",
       " 'val_auc_roc': [0.9709017901122383, 0.9782758309348423],\n",
       " 'loss': [0.0601732683076678, 0.04451188884458024],\n",
       " 'acc': [0.97928575438703, 0.9832141338954222],\n",
       " 'auc_roc': [0.9344468984879765, 0.9757211016609069]}"
      ]
     },
     "execution_count": 33,
     "metadata": {},
     "output_type": "execute_result"
    }
   ],
   "source": [
    "history.history"
   ]
  },
  {
   "cell_type": "code",
   "execution_count": 31,
   "metadata": {},
   "outputs": [
    {
     "data": {
      "text/plain": [
       "Text(0,0.5,'loss')"
      ]
     },
     "execution_count": 31,
     "metadata": {},
     "output_type": "execute_result"
    },
    {
     "data": {
      "image/png": "[encoded data removed]",
      "text/plain": [
       "<Figure size 1080x576 with 1 Axes>"
      ]
     },
     "metadata": {},
     "output_type": "display_data"
    }
   ],
   "source": [
    "fig, ax = plt.subplots(nrows = 1, ncols = 1, figsize = (15, 8))\n",
    "\n",
    "ax.plot(acc_history.acc['train_acc'], 'bo')\n",
    "ax.plot(acc_history.acc['val_acc'], 'ro')\n",
    "ax.grid(alpha = 0.25)\n",
    "ax.set_xlabel(\"Epochs\")\n",
    "ax.set_ylabel(\"loss\")"
   ]
  },
  {
   "cell_type": "code",
   "execution_count": 138,
   "metadata": {},
   "outputs": [],
   "source": [
    "from keras import backend as K\n",
    "inp = model.input "
   ]
  },
  {
   "cell_type": "code",
   "execution_count": 139,
   "metadata": {},
   "outputs": [],
   "source": [
    "outputs = [layer.output for layer in model.layers]          # all layer outputs\n",
    "functors = [K.function([inp]+ [K.learning_phase()], [out]) for out in outputs]  # evaluation functions"
   ]
  },
  {
   "cell_type": "code",
   "execution_count": 140,
   "metadata": {},
   "outputs": [],
   "source": [
    "layer_outs = [func([temp_input, 1.]) for func in functors]"
   ]
  },
  {
   "cell_type": "code",
   "execution_count": 141,
   "metadata": {},
   "outputs": [
    {
     "data": {
      "text/plain": [
       "[[array([[  1.,   2.,   3.,   4.,   5.,   6.,   7.,   8.,   9.,  10.,  11.,\n",
       "           12.,  13.,  14.,  15.,  16.,  17.,  18.,  19.,  20.,  21.,  22.,\n",
       "           23.,  24.,  25.,  26.,  27.,  28.,  29.,  30.,  31.,  32.,  33.,\n",
       "           34.,  35.,  36.,  37.,  38.,  39.,  40.,  41.,  42.,  43.,  44.,\n",
       "           45.,  46.,  47.,  48.,  49.,  50.,  51.,  52.,  53.,  54.,  55.,\n",
       "           56.,  57.,  58.,  59.,  60.,  61.,  62.,  63.,  64.,  65.,  66.,\n",
       "           67.,  68.,  69.,  70.,  71.,  72.,  73.,  74.,  75.,  76.,  77.,\n",
       "           78.,  79.,  80.,  81.,  82.,  83.,  84.,  85.,  86.,  87.,  88.,\n",
       "           89.,  90.,  91.,  92.,  93.,  94.,  95.,  96.,  97.,  98.,  99.,\n",
       "          100.]], dtype=float32)],\n",
       " [array([[[ 0.5199069 ,  0.30844796, -0.21001868, ..., -0.2318563 ,\n",
       "           -0.2733043 , -0.9383957 ],\n",
       "          [ 0.6420834 , -0.1127833 ,  0.4272472 , ..., -0.06526023,\n",
       "            0.00772602, -0.3802694 ],\n",
       "          [ 0.6989421 ,  0.5031973 , -0.18811023, ..., -0.3470296 ,\n",
       "           -0.0968058 , -0.81633973],\n",
       "          ...,\n",
       "          [-0.06983779,  0.81000715, -0.83806354, ...,  0.5725422 ,\n",
       "            0.01063203,  1.0661842 ],\n",
       "          [ 0.5545373 , -0.51303726,  0.45851833, ..., -0.11498083,\n",
       "           -0.25956002, -0.6370125 ],\n",
       "          [ 0.43182722,  0.5447595 , -0.43372485, ...,  0.13640505,\n",
       "           -0.50364953, -0.04605655]]], dtype=float32)],\n",
       " [array([[[-8.0422135e-03, -1.7068721e-01,  5.6586362e-02, ...,\n",
       "            6.0668856e-01, -8.0400128e-03,  2.2672565e-01],\n",
       "          [ 7.7037118e-02, -2.1058007e-01, -2.6442636e-02, ...,\n",
       "            5.8626896e-01, -2.9231447e-03,  1.8953706e-01],\n",
       "          [ 7.7111393e-02, -2.5917891e-01, -2.0165445e-02, ...,\n",
       "            6.6724169e-01,  6.4809253e-03,  2.6577646e-01],\n",
       "          ...,\n",
       "          [ 2.0946965e-02,  2.3313960e-02, -2.5358515e-02, ...,\n",
       "            1.8593894e-02,  0.0000000e+00,  1.9874740e-01],\n",
       "          [ 7.0943250e-05, -6.7751206e-02,  2.0191764e-02, ...,\n",
       "            4.1912369e-02,  9.4819544e-03,  7.5505160e-02],\n",
       "          [ 8.1706708e-03,  3.7072327e-02, -1.6483812e-02, ...,\n",
       "           -7.5920355e-03, -0.0000000e+00,  1.2362319e-01]]], dtype=float32)],\n",
       " [array([[ 0.32430825,  0.34143114,  0.07998779, -0.07291462,  0.23715627,\n",
       "           0.21841215,  0.5287232 ,  0.08443868,  0.00572675,  0.05401805,\n",
       "           0.58438164,  0.73976445,  0.12283359,  0.25941738, -0.18781765,\n",
       "          -0.03959956,  0.39212695,  0.19247071,  0.70595074, -0.32920328,\n",
       "           0.39832386,  0.8939902 , -0.        , -0.05507696,  0.30205846,\n",
       "           0.5402834 ,  0.44354746, -0.16228124,  0.50499064, -0.02163072,\n",
       "          -0.02032286,  0.73165905,  0.6657575 ,  0.6907831 ,  0.20018332,\n",
       "          -0.        , -0.        ,  0.05334044,  0.09962234, -0.11166337,\n",
       "           0.4954466 ,  0.3191361 ,  0.00123299, -0.        ,  0.5165049 ,\n",
       "           0.26123512,  0.18214476,  0.54888284, -0.08598289,  0.16837518,\n",
       "           0.49384513,  0.04805873,  0.3349494 ,  0.0555188 ,  0.03291142,\n",
       "          -0.06087265,  0.12139095,  0.43519717,  0.199356  ,  0.41415152,\n",
       "          -0.04421753,  0.6155843 ,  0.26949754,  0.83700687, -0.09136198,\n",
       "           0.5364813 ,  0.31920072,  0.05310538,  0.20701134,  0.13119723,\n",
       "           0.32705155,  0.22426277,  0.07978839,  0.26828858,  0.01270729,\n",
       "           0.43986493,  0.21214038,  0.3054656 ,  0.41540566,  0.30718684,\n",
       "           0.21033391,  0.771008  ,  0.99950296,  0.42783982, -0.02009451,\n",
       "           0.9999927 ,  0.26289195,  0.24824283,  0.12547545,  0.48418325,\n",
       "           0.29779497,  0.2225264 , -0.01067951,  0.4064119 ,  0.17109855,\n",
       "          -0.07666785, -0.00603664,  0.9215647 ,  0.04872313,  0.8331444 ]],\n",
       "        dtype=float32)],\n",
       " [array([[0.        , 0.        , 1.7112573 , 0.        , 0.        ,\n",
       "          0.        , 1.436218  , 0.        , 1.8892964 , 0.        ,\n",
       "          0.        , 0.        , 0.        , 0.35866934, 0.        ,\n",
       "          0.        , 1.6777337 , 1.9820045 , 0.9379488 , 0.7962574 ,\n",
       "          0.7468246 , 1.6758226 , 1.164509  , 0.        , 1.3216636 ,\n",
       "          1.5639313 , 0.        , 2.3375423 , 0.        , 0.        ,\n",
       "          0.        , 0.        , 2.0739636 , 3.129783  , 2.402757  ,\n",
       "          0.        , 0.        , 1.1349171 , 0.        , 0.5341236 ,\n",
       "          1.9645185 , 0.9932994 , 1.5005982 , 0.        , 0.        ,\n",
       "          0.        , 0.        , 2.0961797 , 0.        , 0.        ]],\n",
       "        dtype=float32)],\n",
       " [array([[0.        , 0.        , 1.5728102 , 0.        , 0.        ,\n",
       "          0.        , 1.6705859 , 0.        , 1.8372003 , 0.        ,\n",
       "          0.        , 0.        , 0.        , 0.34156385, 0.        ,\n",
       "          0.        , 2.0088983 , 2.125832  , 1.1952848 , 0.8841092 ,\n",
       "          1.135523  , 0.        , 1.3793077 , 0.        , 1.5776298 ,\n",
       "          1.4574674 , 0.        , 2.273777  , 0.        , 0.        ,\n",
       "          0.        , 0.        , 2.257543  , 3.1303256 , 2.3208776 ,\n",
       "          0.        , 0.        , 1.2339321 , 0.        , 0.6555743 ,\n",
       "          2.0930674 , 1.1931453 , 1.249406  , 0.        , 0.        ,\n",
       "          0.        , 0.        , 2.303325  , 0.        , 0.        ]],\n",
       "        dtype=float32)],\n",
       " [array([[4.3451972e-03, 9.1890188e-06, 5.5515947e-04, 1.7388711e-05,\n",
       "          8.1121479e-04, 4.6706409e-05]], dtype=float32)]]"
      ]
     },
     "execution_count": 141,
     "metadata": {},
     "output_type": "execute_result"
    }
   ],
   "source": [
    "layer_outs"
   ]
  },
  {
   "cell_type": "code",
   "execution_count": null,
   "metadata": {},
   "outputs": [],
   "source": []
  }
 ],
 "metadata": {
  "kernelspec": {
   "display_name": "Python 3",
   "language": "python",
   "name": "python3"
  },
  "language_info": {
   "codemirror_mode": {
    "name": "ipython",
    "version": 3
   },
   "file_extension": ".py",
   "mimetype": "text/x-python",
   "name": "python",
   "nbconvert_exporter": "python",
   "pygments_lexer": "ipython3",
   "version": "3.6.4"
  }
 },
 "nbformat": 4,
 "nbformat_minor": 2
}
