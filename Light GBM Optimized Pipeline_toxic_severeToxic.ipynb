{
 "cells": [
  {
   "cell_type": "code",
   "execution_count": 4,
   "metadata": {
    "ExecuteTime": {
     "end_time": "2018-04-06T05:00:41.523434Z",
     "start_time": "2018-04-06T05:00:41.519203Z"
    },
    "_cell_guid": "79c7e3d0-c299-4dcb-8224-4455121ee9b0",
    "_uuid": "d629ff2d2480ee46fbb7e2d37f6b5fab8052498a"
   },
   "outputs": [],
   "source": [
    "TRAIN_DATA_PATH = \"../../train.csv\"\n",
    "TEST_DATA_PATH = \"../../test.csv\"\n",
    "label_cols = ['toxic', 'severe_toxic', 'obscene', 'threat', 'insult', 'identity_hate']\n",
    "comment_col = 'comment_text'"
   ]
  },
  {
   "cell_type": "code",
   "execution_count": 5,
   "metadata": {
    "ExecuteTime": {
     "end_time": "2018-04-06T05:00:42.143652Z",
     "start_time": "2018-04-06T05:00:42.124450Z"
    },
    "_cell_guid": "c333fae9-18b3-4b0e-b782-95e46b697382",
    "_uuid": "cbb8a86b72cacdefbd2e8d3c6b620d17f287df96"
   },
   "outputs": [],
   "source": [
    "import matplotlib.pyplot as plt\n",
    "%matplotlib inline\n",
    "\n",
    "import numpy as np\n",
    "import pandas as pd\n",
    "\n",
    "from sklearn.pipeline import Pipeline\n",
    "from sklearn.pipeline import FeatureUnion\n",
    "\n",
    "from sklearn.feature_extraction.text import CountVectorizer\n",
    "from sklearn.feature_extraction.text import TfidfTransformer\n",
    "from sklearn.feature_extraction.text import TfidfVectorizer\n",
    "\n",
    "from lightgbm import LGBMClassifier\n",
    "\n",
    "from sklearn.base import clone\n",
    "from sklearn.model_selection import learning_curve\n",
    "from sklearn.feature_selection import SelectFromModel\n",
    "from sklearn.model_selection import cross_validate\n",
    "\n",
    "from sklearn.linear_model import LogisticRegression\n",
    "import lightgbm as lgb"
   ]
  },
  {
   "cell_type": "code",
   "execution_count": 6,
   "metadata": {
    "ExecuteTime": {
     "end_time": "2018-04-06T05:00:44.876747Z",
     "start_time": "2018-04-06T05:00:43.374550Z"
    },
    "_cell_guid": "4536ab95-15b8-4bfe-9f9d-d5c08ae38ccf",
    "_uuid": "deada343d590be28ef0253b8249f73955b585c5d"
   },
   "outputs": [],
   "source": [
    "train = pd.read_csv(TRAIN_DATA_PATH)\n",
    "test = pd.read_csv(TEST_DATA_PATH)"
   ]
  },
  {
   "cell_type": "code",
   "execution_count": 7,
   "metadata": {
    "ExecuteTime": {
     "end_time": "2018-04-06T05:00:46.088289Z",
     "start_time": "2018-04-06T05:00:46.029723Z"
    },
    "_cell_guid": "b74ba3cf-1490-41e6-afd4-4cede3eeb437",
    "_uuid": "4d62321b3e02f0f4f88fb78724fb0efcf31033c4"
   },
   "outputs": [],
   "source": [
    "COMMENT = 'comment_text'\n",
    "train[COMMENT].fillna(\"unknown\", inplace=True)\n",
    "test[COMMENT].fillna(\"unknown\", inplace=True)"
   ]
  },
  {
   "cell_type": "code",
   "execution_count": 8,
   "metadata": {
    "ExecuteTime": {
     "end_time": "2018-04-06T05:00:46.781261Z",
     "start_time": "2018-04-06T05:00:46.776359Z"
    },
    "_cell_guid": "d32e6dda-dc87-4446-97ec-3fed3836ab08",
    "_uuid": "a2a6ad7bc906abbe110383c76e9f8a90722790fd"
   },
   "outputs": [],
   "source": [
    "light_gbm_pipeline = Pipeline([\n",
    "    ('vect', FeatureUnion([\n",
    "        ('word_vect', TfidfVectorizer()),\n",
    "        ('char_vect', TfidfVectorizer())\n",
    "    ])),\n",
    "    ('selection', SelectFromModel(LogisticRegression(solver = 'sag'))),\n",
    "    ('clf', LGBMClassifier())\n",
    "])"
   ]
  },
  {
   "cell_type": "code",
   "execution_count": 9,
   "metadata": {
    "ExecuteTime": {
     "end_time": "2018-04-06T05:00:49.608810Z",
     "start_time": "2018-04-06T05:00:49.589176Z"
    },
    "_cell_guid": "1627b726-cb4d-41ee-8007-5dcb09b5484d",
    "_uuid": "cb77f276f55d90b1c7a49118da5a5ccd8b2784d5"
   },
   "outputs": [
    {
     "data": {
      "text/plain": [
       "Pipeline(memory=None,\n",
       "     steps=[('vect', FeatureUnion(n_jobs=1,\n",
       "       transformer_list=[('word_vect', TfidfVectorizer(analyzer='word', binary=False, decode_error='strict',\n",
       "        dtype=<class 'numpy.int64'>, encoding='utf-8', input='content',\n",
       "        lowercase=True, max_df=1.0, max_features=50000, min_df=1,\n",
       "        ngram_... subsample=1.0, subsample_for_bin=200000, subsample_freq=1,\n",
       "        verbose_eval=10, verbosity=-1))])"
      ]
     },
     "execution_count": 9,
     "metadata": {},
     "output_type": "execute_result"
    }
   ],
   "source": [
    "params = {\n",
    "    'vect__word_vect__sublinear_tf': True,\n",
    "    'vect__word_vect__strip_accents': 'unicode',\n",
    "    'vect__word_vect__analyzer': 'word',\n",
    "    'vect__word_vect__token_pattern': r'\\w{1,}',\n",
    "    'vect__word_vect__max_features': 50000,\n",
    "    'vect__word_vect__ngram_range': (1, 2),\n",
    "    'vect__char_vect__sublinear_tf': True,\n",
    "    'vect__char_vect__strip_accents': 'unicode',\n",
    "    'vect__char_vect__analyzer': 'char',\n",
    "    'vect__char_vect__max_features': 50000,\n",
    "    'vect__char_vect__ngram_range': (2, 6),\n",
    "    'selection__threshold': 0.2,\n",
    "    'clf__learning_rate': 0.2,\n",
    "    'clf__application': 'binary',\n",
    "    'clf__num_leaves': 20,\n",
    "    'clf__verbosity': -1,\n",
    "    'clf__metric': 'auc',\n",
    "    'clf__bagging_fraction': 0.8,\n",
    "    'clf__feature_fraction': 0.6,\n",
    "    'clf__lamba_l1': 1,\n",
    "    'clf__lambda_l2': 1,\n",
    "    'clf__num_boost_rounds': 10,\n",
    "    'clf__verbose_eval': 10\n",
    "}\n",
    "\n",
    "light_gbm_pipeline.set_params(**params)"
   ]
  },
  {
   "cell_type": "code",
   "execution_count": 13,
   "metadata": {
    "ExecuteTime": {
     "end_time": "2018-04-06T08:49:40.019306Z",
     "start_time": "2018-04-06T05:06:25.204941Z"
    },
    "_cell_guid": "1698bb56-89ca-4b55-b8e4-8622b69a119d",
    "_uuid": "f96978346c98571bfa06c1ffff935b167bda57e8"
   },
   "outputs": [
    {
     "name": "stdout",
     "output_type": "stream",
     "text": [
      "Running for toxic\n",
      "[CV]  ................................................................\n"
     ]
    },
    {
     "name": "stderr",
     "output_type": "stream",
     "text": [
      "/usr/local/Cellar/python3/3.6.4_2/Frameworks/Python.framework/Versions/3.6/lib/python3.6/site-packages/sklearn/preprocessing/label.py:151: DeprecationWarning: The truth value of an empty array is ambiguous. Returning False, but in future this will result in an error. Use `array.size > 0` to check that an array is not empty.\n",
      "  if diff:\n",
      "/usr/local/Cellar/python3/3.6.4_2/Frameworks/Python.framework/Versions/3.6/lib/python3.6/site-packages/sklearn/preprocessing/label.py:151: DeprecationWarning: The truth value of an empty array is ambiguous. Returning False, but in future this will result in an error. Use `array.size > 0` to check that an array is not empty.\n",
      "  if diff:\n"
     ]
    },
    {
     "name": "stdout",
     "output_type": "stream",
     "text": [
      "[CV]  , accuracy=0.9614914616951277, roc_auc=0.9741697464421412, neg_log_loss=-0.10542004547790662, total= 9.7min\n"
     ]
    },
    {
     "name": "stderr",
     "output_type": "stream",
     "text": [
      "[Parallel(n_jobs=1)]: Done   1 out of   1 | elapsed: 20.7min remaining:    0.0s\n"
     ]
    },
    {
     "name": "stdout",
     "output_type": "stream",
     "text": [
      "[CV]  ................................................................\n"
     ]
    },
    {
     "name": "stderr",
     "output_type": "stream",
     "text": [
      "/usr/local/Cellar/python3/3.6.4_2/Frameworks/Python.framework/Versions/3.6/lib/python3.6/site-packages/sklearn/preprocessing/label.py:151: DeprecationWarning: The truth value of an empty array is ambiguous. Returning False, but in future this will result in an error. Use `array.size > 0` to check that an array is not empty.\n",
      "  if diff:\n",
      "/usr/local/Cellar/python3/3.6.4_2/Frameworks/Python.framework/Versions/3.6/lib/python3.6/site-packages/sklearn/preprocessing/label.py:151: DeprecationWarning: The truth value of an empty array is ambiguous. Returning False, but in future this will result in an error. Use `array.size > 0` to check that an array is not empty.\n",
      "  if diff:\n"
     ]
    },
    {
     "name": "stdout",
     "output_type": "stream",
     "text": [
      "[CV]  , accuracy=0.9623374588751371, roc_auc=0.9765451718730415, neg_log_loss=-0.10166939194149983, total=10.0min\n"
     ]
    },
    {
     "name": "stderr",
     "output_type": "stream",
     "text": [
      "[Parallel(n_jobs=1)]: Done   2 out of   2 | elapsed: 41.9min remaining:    0.0s\n"
     ]
    },
    {
     "name": "stdout",
     "output_type": "stream",
     "text": [
      "[CV]  ................................................................\n"
     ]
    },
    {
     "name": "stderr",
     "output_type": "stream",
     "text": [
      "/usr/local/Cellar/python3/3.6.4_2/Frameworks/Python.framework/Versions/3.6/lib/python3.6/site-packages/sklearn/preprocessing/label.py:151: DeprecationWarning: The truth value of an empty array is ambiguous. Returning False, but in future this will result in an error. Use `array.size > 0` to check that an array is not empty.\n",
      "  if diff:\n",
      "/usr/local/Cellar/python3/3.6.4_2/Frameworks/Python.framework/Versions/3.6/lib/python3.6/site-packages/sklearn/preprocessing/label.py:151: DeprecationWarning: The truth value of an empty array is ambiguous. Returning False, but in future this will result in an error. Use `array.size > 0` to check that an array is not empty.\n",
      "  if diff:\n"
     ]
    },
    {
     "name": "stdout",
     "output_type": "stream",
     "text": [
      "[CV]  , accuracy=0.963370307701949, roc_auc=0.9747658097501293, neg_log_loss=-0.10225583892648642, total=10.1min\n"
     ]
    },
    {
     "name": "stderr",
     "output_type": "stream",
     "text": [
      "[Parallel(n_jobs=1)]: Done   3 out of   3 | elapsed: 63.8min remaining:    0.0s\n"
     ]
    },
    {
     "name": "stdout",
     "output_type": "stream",
     "text": [
      "[CV]  ................................................................\n"
     ]
    },
    {
     "name": "stderr",
     "output_type": "stream",
     "text": [
      "/usr/local/Cellar/python3/3.6.4_2/Frameworks/Python.framework/Versions/3.6/lib/python3.6/site-packages/sklearn/preprocessing/label.py:151: DeprecationWarning: The truth value of an empty array is ambiguous. Returning False, but in future this will result in an error. Use `array.size > 0` to check that an array is not empty.\n",
      "  if diff:\n",
      "/usr/local/Cellar/python3/3.6.4_2/Frameworks/Python.framework/Versions/3.6/lib/python3.6/site-packages/sklearn/preprocessing/label.py:151: DeprecationWarning: The truth value of an empty array is ambiguous. Returning False, but in future this will result in an error. Use `array.size > 0` to check that an array is not empty.\n",
      "  if diff:\n"
     ]
    },
    {
     "name": "stdout",
     "output_type": "stream",
     "text": [
      "[CV]  , accuracy=0.9625869524346682, roc_auc=0.9765828896486127, neg_log_loss=-0.10327577485038417, total=10.3min\n"
     ]
    },
    {
     "name": "stderr",
     "output_type": "stream",
     "text": [
      "[Parallel(n_jobs=1)]: Done   4 out of   4 | elapsed: 87.6min remaining:    0.0s\n"
     ]
    },
    {
     "name": "stdout",
     "output_type": "stream",
     "text": [
      "[CV]  ................................................................\n"
     ]
    },
    {
     "name": "stderr",
     "output_type": "stream",
     "text": [
      "/usr/local/Cellar/python3/3.6.4_2/Frameworks/Python.framework/Versions/3.6/lib/python3.6/site-packages/sklearn/preprocessing/label.py:151: DeprecationWarning: The truth value of an empty array is ambiguous. Returning False, but in future this will result in an error. Use `array.size > 0` to check that an array is not empty.\n",
      "  if diff:\n",
      "/usr/local/Cellar/python3/3.6.4_2/Frameworks/Python.framework/Versions/3.6/lib/python3.6/site-packages/sklearn/preprocessing/label.py:151: DeprecationWarning: The truth value of an empty array is ambiguous. Returning False, but in future this will result in an error. Use `array.size > 0` to check that an array is not empty.\n",
      "  if diff:\n"
     ]
    },
    {
     "name": "stdout",
     "output_type": "stream",
     "text": [
      "[CV]  , accuracy=0.961771065083195, roc_auc=0.9735143489940172, neg_log_loss=-0.10632890748537532, total=18.2min\n"
     ]
    },
    {
     "name": "stderr",
     "output_type": "stream",
     "text": [
      "[Parallel(n_jobs=1)]: Done   5 out of   5 | elapsed: 119.4min remaining:    0.0s\n"
     ]
    },
    {
     "name": "stdout",
     "output_type": "stream",
     "text": [
      "{'fit_time': array([418.50400519, 441.79352236, 427.46366787, 454.63654971,\n",
      "       883.03019595]), 'score_time': array([163.74072862, 158.98369193, 179.50701404, 162.4488461 ,\n",
      "       207.98612094]), 'test_accuracy': array([0.96149146, 0.96233746, 0.96337031, 0.96258695, 0.96177107]), 'train_accuracy': array([0.9712822 , 0.97124303, 0.97161143, 0.97119625, 0.97124348]), 'test_roc_auc': array([0.97416975, 0.97654517, 0.97476581, 0.97658289, 0.97351435]), 'train_roc_auc': array([0.98958266, 0.98922174, 0.98948577, 0.98940798, 0.98976177]), 'test_neg_log_loss': array([-0.10542005, -0.10166939, -0.10225584, -0.10327577, -0.10632891]), 'train_neg_log_loss': array([-0.07761468, -0.07851727, -0.07786666, -0.07812039, -0.07705607])}\n",
      "Running for severe_toxic\n",
      "[CV]  ................................................................\n"
     ]
    },
    {
     "name": "stderr",
     "output_type": "stream",
     "text": [
      "[Parallel(n_jobs=1)]: Done   5 out of   5 | elapsed: 119.4min finished\n",
      "/usr/local/Cellar/python3/3.6.4_2/Frameworks/Python.framework/Versions/3.6/lib/python3.6/site-packages/sklearn/preprocessing/label.py:151: DeprecationWarning: The truth value of an empty array is ambiguous. Returning False, but in future this will result in an error. Use `array.size > 0` to check that an array is not empty.\n",
      "  if diff:\n",
      "/usr/local/Cellar/python3/3.6.4_2/Frameworks/Python.framework/Versions/3.6/lib/python3.6/site-packages/sklearn/preprocessing/label.py:151: DeprecationWarning: The truth value of an empty array is ambiguous. Returning False, but in future this will result in an error. Use `array.size > 0` to check that an array is not empty.\n",
      "  if diff:\n"
     ]
    },
    {
     "name": "stdout",
     "output_type": "stream",
     "text": [
      "[CV]  , accuracy=0.9897853673821088, roc_auc=0.9823913268653108, neg_log_loss=-0.025611433749596308, total= 9.8min\n"
     ]
    },
    {
     "name": "stderr",
     "output_type": "stream",
     "text": [
      "[Parallel(n_jobs=1)]: Done   1 out of   1 | elapsed: 22.1min remaining:    0.0s\n"
     ]
    },
    {
     "name": "stdout",
     "output_type": "stream",
     "text": [
      "[CV]  ................................................................\n"
     ]
    },
    {
     "name": "stderr",
     "output_type": "stream",
     "text": [
      "/usr/local/Cellar/python3/3.6.4_2/Frameworks/Python.framework/Versions/3.6/lib/python3.6/site-packages/sklearn/preprocessing/label.py:151: DeprecationWarning: The truth value of an empty array is ambiguous. Returning False, but in future this will result in an error. Use `array.size > 0` to check that an array is not empty.\n",
      "  if diff:\n",
      "/usr/local/Cellar/python3/3.6.4_2/Frameworks/Python.framework/Versions/3.6/lib/python3.6/site-packages/sklearn/preprocessing/label.py:151: DeprecationWarning: The truth value of an empty array is ambiguous. Returning False, but in future this will result in an error. Use `array.size > 0` to check that an array is not empty.\n",
      "  if diff:\n"
     ]
    },
    {
     "name": "stdout",
     "output_type": "stream",
     "text": [
      "[CV]  , accuracy=0.9902237262643354, roc_auc=0.9858541761647338, neg_log_loss=-0.025286920114171236, total=10.0min\n"
     ]
    },
    {
     "name": "stderr",
     "output_type": "stream",
     "text": [
      "[Parallel(n_jobs=1)]: Done   2 out of   2 | elapsed: 46.6min remaining:    0.0s\n"
     ]
    },
    {
     "name": "stdout",
     "output_type": "stream",
     "text": [
      "[CV]  ................................................................\n"
     ]
    },
    {
     "name": "stderr",
     "output_type": "stream",
     "text": [
      "/usr/local/Cellar/python3/3.6.4_2/Frameworks/Python.framework/Versions/3.6/lib/python3.6/site-packages/sklearn/preprocessing/label.py:151: DeprecationWarning: The truth value of an empty array is ambiguous. Returning False, but in future this will result in an error. Use `array.size > 0` to check that an array is not empty.\n",
      "  if diff:\n",
      "/usr/local/Cellar/python3/3.6.4_2/Frameworks/Python.framework/Versions/3.6/lib/python3.6/site-packages/sklearn/preprocessing/label.py:151: DeprecationWarning: The truth value of an empty array is ambiguous. Returning False, but in future this will result in an error. Use `array.size > 0` to check that an array is not empty.\n",
      "  if diff:\n"
     ]
    },
    {
     "name": "stdout",
     "output_type": "stream",
     "text": [
      "[CV]  , accuracy=0.9893463683649809, roc_auc=0.9843537998800453, neg_log_loss=-0.028118389236971242, total= 8.1min\n"
     ]
    },
    {
     "name": "stderr",
     "output_type": "stream",
     "text": [
      "[Parallel(n_jobs=1)]: Done   3 out of   3 | elapsed: 65.6min remaining:    0.0s\n"
     ]
    },
    {
     "name": "stdout",
     "output_type": "stream",
     "text": [
      "[CV]  ................................................................\n"
     ]
    },
    {
     "name": "stderr",
     "output_type": "stream",
     "text": [
      "/usr/local/Cellar/python3/3.6.4_2/Frameworks/Python.framework/Versions/3.6/lib/python3.6/site-packages/sklearn/preprocessing/label.py:151: DeprecationWarning: The truth value of an empty array is ambiguous. Returning False, but in future this will result in an error. Use `array.size > 0` to check that an array is not empty.\n",
      "  if diff:\n",
      "/usr/local/Cellar/python3/3.6.4_2/Frameworks/Python.framework/Versions/3.6/lib/python3.6/site-packages/sklearn/preprocessing/label.py:151: DeprecationWarning: The truth value of an empty array is ambiguous. Returning False, but in future this will result in an error. Use `array.size > 0` to check that an array is not empty.\n",
      "  if diff:\n"
     ]
    },
    {
     "name": "stdout",
     "output_type": "stream",
     "text": [
      "[CV]  , accuracy=0.9899417183681143, roc_auc=0.9851398553697588, neg_log_loss=-0.02645488570922424, total= 8.2min\n"
     ]
    },
    {
     "name": "stderr",
     "output_type": "stream",
     "text": [
      "[Parallel(n_jobs=1)]: Done   4 out of   4 | elapsed: 84.5min remaining:    0.0s\n"
     ]
    },
    {
     "name": "stdout",
     "output_type": "stream",
     "text": [
      "[CV]  ................................................................\n"
     ]
    },
    {
     "name": "stderr",
     "output_type": "stream",
     "text": [
      "/usr/local/Cellar/python3/3.6.4_2/Frameworks/Python.framework/Versions/3.6/lib/python3.6/site-packages/sklearn/preprocessing/label.py:151: DeprecationWarning: The truth value of an empty array is ambiguous. Returning False, but in future this will result in an error. Use `array.size > 0` to check that an array is not empty.\n",
      "  if diff:\n",
      "/usr/local/Cellar/python3/3.6.4_2/Frameworks/Python.framework/Versions/3.6/lib/python3.6/site-packages/sklearn/preprocessing/label.py:151: DeprecationWarning: The truth value of an empty array is ambiguous. Returning False, but in future this will result in an error. Use `array.size > 0` to check that an array is not empty.\n",
      "  if diff:\n"
     ]
    },
    {
     "name": "stdout",
     "output_type": "stream",
     "text": [
      "[CV]  , accuracy=0.9900670552108792, roc_auc=0.9862547692906054, neg_log_loss=-0.025476337631086567, total= 8.4min\n"
     ]
    },
    {
     "name": "stderr",
     "output_type": "stream",
     "text": [
      "[Parallel(n_jobs=1)]: Done   5 out of   5 | elapsed: 103.8min remaining:    0.0s\n"
     ]
    },
    {
     "name": "stdout",
     "output_type": "stream",
     "text": [
      "{'fit_time': array([400.43777013, 398.24313116, 318.95824385, 334.04399323,\n",
      "       343.94788313]), 'score_time': array([189.90395379, 203.62284184, 164.06704807, 160.68782473,\n",
      "       161.57937884]), 'test_accuracy': array([0.98978537, 0.99022373, 0.98934637, 0.98994172, 0.99006706]), 'train_accuracy': array([0.99744626, 0.99760295, 0.99750112, 0.99761079, 0.99771262]), 'test_roc_auc': array([0.98239133, 0.98585418, 0.9843538 , 0.98513986, 0.98625477]), 'train_roc_auc': array([0.99939876, 0.99951552, 0.99953252, 0.99954034, 0.99947988]), 'test_neg_log_loss': array([-0.02561143, -0.02528692, -0.02811839, -0.02645489, -0.02547634]), 'train_neg_log_loss': array([-0.00883899, -0.00872426, -0.00855632, -0.00846592, -0.00862764])}\n"
     ]
    },
    {
     "name": "stderr",
     "output_type": "stream",
     "text": [
      "[Parallel(n_jobs=1)]: Done   5 out of   5 | elapsed: 103.9min finished\n"
     ]
    }
   ],
   "source": [
    "labels = ['toxic', 'severe_toxic']\n",
    "cv = {}\n",
    "for label in labels:\n",
    "    print ('Running for ' + label)\n",
    "    cv[label] = cross_validate(light_gbm_pipeline, train[comment_col], train[label], \n",
    "                               cv = 5, verbose = 10, scoring = ('accuracy', 'roc_auc', 'neg_log_loss'))\n",
    "    print (cv[label])"
   ]
  },
  {
   "cell_type": "code",
   "execution_count": 15,
   "metadata": {
    "ExecuteTime": {
     "end_time": "2018-04-06T16:31:49.622430Z",
     "start_time": "2018-04-06T16:31:49.607930Z"
    },
    "_cell_guid": "f2cc0778-e9ce-447e-a2f1-6a85aebbfa3b",
    "_uuid": "cb00779b9db8705ab03eced490e3baea3eb6526c"
   },
   "outputs": [],
   "source": [
    "import pickle\n",
    "def save_obj(obj, name ):\n",
    "    with open( name + '.pkl', 'wb') as f:\n",
    "        pickle.dump(obj, f, pickle.HIGHEST_PROTOCOL)\n",
    "\n",
    "def load_obj(name ):\n",
    "    with open(name + '.pkl', 'rb') as f:\n",
    "        return pickle.load(f)\n",
    "    \n",
    "save_obj(cv,'toxic and severe toxic')"
   ]
  },
  {
   "cell_type": "code",
   "execution_count": 20,
   "metadata": {
    "ExecuteTime": {
     "end_time": "2018-04-06T18:51:48.047027Z",
     "start_time": "2018-04-06T18:51:48.035965Z"
    }
   },
   "outputs": [
    {
     "name": "stdout",
     "output_type": "stream",
     "text": [
      "Stats from toxic\n",
      "Average fit_time = 525.0855882167816\n",
      "Average score_time = 174.5332803249359\n",
      "Average test_accuracy = 0.9623114491580154\n",
      "Average train_accuracy = 0.9713152765328111\n",
      "Average test_roc_auc = 0.9751155933415884\n",
      "Average train_roc_auc = 0.9894919847527806\n",
      "Average test_neg_log_loss = -0.10378999173633048\n",
      "Average train_neg_log_loss = -0.07783501451848558\n",
      "Stats from severe_toxic\n",
      "Average fit_time = 359.12620429992677\n",
      "Average score_time = 175.97220945358276\n",
      "Average test_accuracy = 0.9898728471180839\n",
      "Average train_accuracy = 0.9975747470898766\n",
      "Average test_roc_auc = 0.984798785514091\n",
      "Average train_roc_auc = 0.9994934053006382\n",
      "Average test_neg_log_loss = -0.02618959328820992\n",
      "Average train_neg_log_loss = -0.008642625322111559\n"
     ]
    },
    {
     "name": "stderr",
     "output_type": "stream",
     "text": [
      "/usr/local/Cellar/python3/3.6.4_2/Frameworks/Python.framework/Versions/3.6/lib/python3.6/site-packages/sklearn/utils/deprecation.py:122: FutureWarning: You are accessing a training score ('train_accuracy'), which will not be available by default any more in 0.21. If you need training scores, please set return_train_score=True\n",
      "  warnings.warn(*warn_args, **warn_kwargs)\n",
      "/usr/local/Cellar/python3/3.6.4_2/Frameworks/Python.framework/Versions/3.6/lib/python3.6/site-packages/sklearn/utils/deprecation.py:122: FutureWarning: You are accessing a training score ('train_roc_auc'), which will not be available by default any more in 0.21. If you need training scores, please set return_train_score=True\n",
      "  warnings.warn(*warn_args, **warn_kwargs)\n",
      "/usr/local/Cellar/python3/3.6.4_2/Frameworks/Python.framework/Versions/3.6/lib/python3.6/site-packages/sklearn/utils/deprecation.py:122: FutureWarning: You are accessing a training score ('train_neg_log_loss'), which will not be available by default any more in 0.21. If you need training scores, please set return_train_score=True\n",
      "  warnings.warn(*warn_args, **warn_kwargs)\n"
     ]
    }
   ],
   "source": [
    "print(\"Stats from toxic\")\n",
    "for i in cv['toxic']:\n",
    "    print(\"Average \"+str(i)+\" = \" + str(np.mean(cv['toxic'][i])))\n",
    "    \n",
    "print(\"Stats from severe_toxic\")\n",
    "for i in cv['severe_toxic']:\n",
    "    print(\"Average \"+str(i)+\" = \" + str(np.mean(cv['severe_toxic'][i])))"
   ]
  },
  {
   "cell_type": "code",
   "execution_count": null,
   "metadata": {},
   "outputs": [],
   "source": []
  }
 ],
 "metadata": {
  "kernelspec": {
   "display_name": "Python 3",
   "language": "python",
   "name": "python3"
  },
  "language_info": {
   "codemirror_mode": {
    "name": "ipython",
    "version": 3
   },
   "file_extension": ".py",
   "mimetype": "text/x-python",
   "name": "python",
   "nbconvert_exporter": "python",
   "pygments_lexer": "ipython3",
   "version": "3.6.4"
  },
  "varInspector": {
   "cols": {
    "lenName": 16,
    "lenType": 16,
    "lenVar": 40
   },
   "kernels_config": {
    "python": {
     "delete_cmd_postfix": "",
     "delete_cmd_prefix": "del ",
     "library": "var_list.py",
     "varRefreshCmd": "print(var_dic_list())"
    },
    "r": {
     "delete_cmd_postfix": ") ",
     "delete_cmd_prefix": "rm(",
     "library": "var_list.r",
     "varRefreshCmd": "cat(var_dic_list()) "
    }
   },
   "types_to_exclude": [
    "module",
    "function",
    "builtin_function_or_method",
    "instance",
    "_Feature"
   ],
   "window_display": false
  }
 },
 "nbformat": 4,
 "nbformat_minor": 1
}
